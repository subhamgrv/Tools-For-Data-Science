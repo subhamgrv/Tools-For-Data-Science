{
 "cells": [
  {
   "cell_type": "markdown",
   "id": "2e92b67f-25d5-428c-add2-0959aad67925",
   "metadata": {},
   "source": [
    "# Data Science Tools and Ecosystem"
   ]
  },
  {
   "cell_type": "markdown",
   "id": "eebced45-0958-4b80-bc83-0b112b6a57f1",
   "metadata": {},
   "source": [
    "In this notebook, Data Science Tools and Ecosystem are summarized."
   ]
  },
  {
   "cell_type": "markdown",
   "id": "3a95d3d2-6be2-4e38-b378-39d65f8f4de2",
   "metadata": {},
   "source": [
    "** Objectives **\n",
    "+ List popular languages for Data Science\n",
    "+ Commonly used libraries used by Data Scientists\n",
    "+ Evaluating arithmetic expressions in Python"
   ]
  },
  {
   "cell_type": "markdown",
   "id": "9869b18f-bd1b-4255-a16f-47fa5bbfb558",
   "metadata": {},
   "source": [
    "Some of the popular languages that Data Scientists use are:\n",
    "1. R\n",
    "2. Python\n",
    "3. Scala"
   ]
  },
  {
   "cell_type": "markdown",
   "id": "79ba2ee5-98cc-49dc-ba75-edb7cf832980",
   "metadata": {
    "tags": []
   },
   "source": [
    "Some of the commonly used libraries used by Data Scientists include:\n",
    "1. Matplotlib\n",
    "2. Pandas\n",
    "3. Numpy\n",
    "4. Keras"
   ]
  },
  {
   "cell_type": "markdown",
   "id": "bf021c66-2769-45a9-8a5b-1a7e9ffd8e1e",
   "metadata": {},
   "source": [
    "|Data Science Tools|\n",
    "|---|\n",
    "|Kubeflow|\n",
    "|Hue|\n",
    "|TensorFlow|"
   ]
  },
  {
   "cell_type": "markdown",
   "id": "52a2ac76-8d91-400d-a8b9-27f4859160a0",
   "metadata": {},
   "source": [
    "### Below are a few examples of evaluating arithmetic expressions in Python."
   ]
  },
  {
   "cell_type": "code",
   "execution_count": 2,
   "id": "5ca6669c-2b97-462a-a8c6-f4c0cff5d03d",
   "metadata": {
    "tags": []
   },
   "outputs": [
    {
     "data": {
      "text/plain": [
       "17"
      ]
     },
     "execution_count": 2,
     "metadata": {},
     "output_type": "execute_result"
    }
   ],
   "source": [
    "(3*4)+5\n",
    "# This is a simple arithmetic expression to multiply then add integers."
   ]
  },
  {
   "cell_type": "code",
   "execution_count": 4,
   "id": "85366d16-b6f7-49e0-ba06-301cabc701e1",
   "metadata": {
    "tags": []
   },
   "outputs": [
    {
     "data": {
      "text/plain": [
       "3.3333333333333335"
      ]
     },
     "execution_count": 4,
     "metadata": {},
     "output_type": "execute_result"
    }
   ],
   "source": [
    "200/60\n",
    "# This will convert 200 minutes to hours by dividing by 60"
   ]
  },
  {
   "cell_type": "markdown",
   "id": "309ac1a3-c45c-47db-9077-439dd9f4dc48",
   "metadata": {},
   "source": [
    "## Author\n",
    "Subham Gaurav"
   ]
  },
  {
   "cell_type": "code",
   "execution_count": null,
   "id": "0f680852-654c-4ae3-bfad-f31c8c5d4938",
   "metadata": {},
   "outputs": [],
   "source": []
  }
 ],
 "metadata": {
  "kernelspec": {
   "display_name": "Python",
   "language": "python",
   "name": "conda-env-python-py"
  },
  "language_info": {
   "codemirror_mode": {
    "name": "ipython",
    "version": 3
   },
   "file_extension": ".py",
   "mimetype": "text/x-python",
   "name": "python",
   "nbconvert_exporter": "python",
   "pygments_lexer": "ipython3",
   "version": "3.7.12"
  }
 },
 "nbformat": 4,
 "nbformat_minor": 5
}
